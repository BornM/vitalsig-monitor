{
  "cells": [
    {
      "cell_type": "code",
      "execution_count": null,
      "metadata": {
        "id": "3Rx_WtfL2m4Q"
      },
      "outputs": [],
      "source": [
        "import pandas as pd\n",
        "import numpy as np\n",
        "import tensorflow as tf\n"
      ]
    },
    {
      "cell_type": "code",
      "execution_count": null,
      "metadata": {
        "id": "yd2OJoUVnUoj"
      },
      "outputs": [],
      "source": [
        "import warnings\n",
        "warnings.filterwarnings('ignore')"
      ]
    },
    {
      "cell_type": "code",
      "execution_count": null,
      "metadata": {
        "id": "7-TW1Aqp2uRJ"
      },
      "outputs": [],
      "source": [
        "df = pd.read_csv('../data/vitals_time.csv')"
      ]
    },
    {
      "cell_type": "code",
      "execution_count": null,
      "metadata": {
        "id": "YtUKcfjG2875"
      },
      "outputs": [],
      "source": [
        "df = df.rename(columns={'Unnamed: 0': 'Timestamp'})\n",
        "df.set_index('Timestamp',inplace=True)"
      ]
    },
    {
      "cell_type": "code",
      "execution_count": null,
      "metadata": {
        "id": "nzlROolT2-_d"
      },
      "outputs": [],
      "source": [
        "df=df.dropna()"
      ]
    },
    {
      "cell_type": "code",
      "execution_count": null,
      "metadata": {
        "colab": {
          "base_uri": "https://localhost:8080/"
        },
        "id": "9KSgnBzJ3G3g",
        "outputId": "ca9dd16d-7cc1-4888-f36e-0a9af046093a"
      },
      "outputs": [
        {
          "data": {
            "text/plain": [
              "heartrate    0\n",
              "resprate     0\n",
              "o2sat        0\n",
              "sbp          0\n",
              "dbp          0\n",
              "dtype: int64"
            ]
          },
          "execution_count": 6,
          "metadata": {},
          "output_type": "execute_result"
        }
      ],
      "source": [
        "df.isna().sum()"
      ]
    },
    {
      "cell_type": "code",
      "execution_count": null,
      "metadata": {
        "colab": {
          "base_uri": "https://localhost:8080/",
          "height": 455
        },
        "id": "gXCYvBsa3IY-",
        "outputId": "4db0244c-5f7c-4432-b811-9feade87ed97"
      },
      "outputs": [
        {
          "data": {
            "text/html": [
              "\n",
              "  <div id=\"df-fd83a9c7-717a-4c9a-b2e5-0580b003b04a\">\n",
              "    <div class=\"colab-df-container\">\n",
              "      <div>\n",
              "<style scoped>\n",
              "    .dataframe tbody tr th:only-of-type {\n",
              "        vertical-align: middle;\n",
              "    }\n",
              "\n",
              "    .dataframe tbody tr th {\n",
              "        vertical-align: top;\n",
              "    }\n",
              "\n",
              "    .dataframe thead th {\n",
              "        text-align: right;\n",
              "    }\n",
              "</style>\n",
              "<table border=\"1\" class=\"dataframe\">\n",
              "  <thead>\n",
              "    <tr style=\"text-align: right;\">\n",
              "      <th></th>\n",
              "      <th>heartrate</th>\n",
              "      <th>resprate</th>\n",
              "      <th>o2sat</th>\n",
              "      <th>sbp</th>\n",
              "      <th>dbp</th>\n",
              "    </tr>\n",
              "    <tr>\n",
              "      <th>Timestamp</th>\n",
              "      <th></th>\n",
              "      <th></th>\n",
              "      <th></th>\n",
              "      <th></th>\n",
              "      <th></th>\n",
              "    </tr>\n",
              "  </thead>\n",
              "  <tbody>\n",
              "    <tr>\n",
              "      <th>2023-05-06 00:00:00</th>\n",
              "      <td>83.0</td>\n",
              "      <td>24.0</td>\n",
              "      <td>97.0</td>\n",
              "      <td>90.0</td>\n",
              "      <td>51.0</td>\n",
              "    </tr>\n",
              "    <tr>\n",
              "      <th>2023-05-06 00:00:01</th>\n",
              "      <td>85.0</td>\n",
              "      <td>22.0</td>\n",
              "      <td>98.0</td>\n",
              "      <td>76.0</td>\n",
              "      <td>39.0</td>\n",
              "    </tr>\n",
              "    <tr>\n",
              "      <th>2023-05-06 00:00:02</th>\n",
              "      <td>84.0</td>\n",
              "      <td>22.0</td>\n",
              "      <td>97.0</td>\n",
              "      <td>75.0</td>\n",
              "      <td>39.0</td>\n",
              "    </tr>\n",
              "    <tr>\n",
              "      <th>2023-05-06 00:00:03</th>\n",
              "      <td>84.0</td>\n",
              "      <td>20.0</td>\n",
              "      <td>99.0</td>\n",
              "      <td>86.0</td>\n",
              "      <td>51.0</td>\n",
              "    </tr>\n",
              "    <tr>\n",
              "      <th>2023-05-06 00:00:04</th>\n",
              "      <td>86.0</td>\n",
              "      <td>20.0</td>\n",
              "      <td>98.0</td>\n",
              "      <td>65.0</td>\n",
              "      <td>37.0</td>\n",
              "    </tr>\n",
              "    <tr>\n",
              "      <th>...</th>\n",
              "      <td>...</td>\n",
              "      <td>...</td>\n",
              "      <td>...</td>\n",
              "      <td>...</td>\n",
              "      <td>...</td>\n",
              "    </tr>\n",
              "    <tr>\n",
              "      <th>2023-05-07 06:42:37</th>\n",
              "      <td>69.0</td>\n",
              "      <td>22.0</td>\n",
              "      <td>100.0</td>\n",
              "      <td>127.0</td>\n",
              "      <td>53.0</td>\n",
              "    </tr>\n",
              "    <tr>\n",
              "      <th>2023-05-07 06:42:38</th>\n",
              "      <td>67.0</td>\n",
              "      <td>16.0</td>\n",
              "      <td>99.0</td>\n",
              "      <td>140.0</td>\n",
              "      <td>74.0</td>\n",
              "    </tr>\n",
              "    <tr>\n",
              "      <th>2023-05-07 06:42:39</th>\n",
              "      <td>65.0</td>\n",
              "      <td>16.0</td>\n",
              "      <td>99.0</td>\n",
              "      <td>125.0</td>\n",
              "      <td>79.0</td>\n",
              "    </tr>\n",
              "    <tr>\n",
              "      <th>2023-05-07 06:42:40</th>\n",
              "      <td>68.0</td>\n",
              "      <td>18.0</td>\n",
              "      <td>100.0</td>\n",
              "      <td>130.0</td>\n",
              "      <td>68.0</td>\n",
              "    </tr>\n",
              "    <tr>\n",
              "      <th>2023-05-07 06:42:41</th>\n",
              "      <td>75.0</td>\n",
              "      <td>17.0</td>\n",
              "      <td>98.0</td>\n",
              "      <td>134.0</td>\n",
              "      <td>5.0</td>\n",
              "    </tr>\n",
              "  </tbody>\n",
              "</table>\n",
              "<p>110562 rows × 5 columns</p>\n",
              "</div>\n",
              "      <button class=\"colab-df-convert\" onclick=\"convertToInteractive('df-fd83a9c7-717a-4c9a-b2e5-0580b003b04a')\"\n",
              "              title=\"Convert this dataframe to an interactive table.\"\n",
              "              style=\"display:none;\">\n",
              "        \n",
              "  <svg xmlns=\"http://www.w3.org/2000/svg\" height=\"24px\"viewBox=\"0 0 24 24\"\n",
              "       width=\"24px\">\n",
              "    <path d=\"M0 0h24v24H0V0z\" fill=\"none\"/>\n",
              "    <path d=\"M18.56 5.44l.94 2.06.94-2.06 2.06-.94-2.06-.94-.94-2.06-.94 2.06-2.06.94zm-11 1L8.5 8.5l.94-2.06 2.06-.94-2.06-.94L8.5 2.5l-.94 2.06-2.06.94zm10 10l.94 2.06.94-2.06 2.06-.94-2.06-.94-.94-2.06-.94 2.06-2.06.94z\"/><path d=\"M17.41 7.96l-1.37-1.37c-.4-.4-.92-.59-1.43-.59-.52 0-1.04.2-1.43.59L10.3 9.45l-7.72 7.72c-.78.78-.78 2.05 0 2.83L4 21.41c.39.39.9.59 1.41.59.51 0 1.02-.2 1.41-.59l7.78-7.78 2.81-2.81c.8-.78.8-2.07 0-2.86zM5.41 20L4 18.59l7.72-7.72 1.47 1.35L5.41 20z\"/>\n",
              "  </svg>\n",
              "      </button>\n",
              "      \n",
              "  <style>\n",
              "    .colab-df-container {\n",
              "      display:flex;\n",
              "      flex-wrap:wrap;\n",
              "      gap: 12px;\n",
              "    }\n",
              "\n",
              "    .colab-df-convert {\n",
              "      background-color: #E8F0FE;\n",
              "      border: none;\n",
              "      border-radius: 50%;\n",
              "      cursor: pointer;\n",
              "      display: none;\n",
              "      fill: #1967D2;\n",
              "      height: 32px;\n",
              "      padding: 0 0 0 0;\n",
              "      width: 32px;\n",
              "    }\n",
              "\n",
              "    .colab-df-convert:hover {\n",
              "      background-color: #E2EBFA;\n",
              "      box-shadow: 0px 1px 2px rgba(60, 64, 67, 0.3), 0px 1px 3px 1px rgba(60, 64, 67, 0.15);\n",
              "      fill: #174EA6;\n",
              "    }\n",
              "\n",
              "    [theme=dark] .colab-df-convert {\n",
              "      background-color: #3B4455;\n",
              "      fill: #D2E3FC;\n",
              "    }\n",
              "\n",
              "    [theme=dark] .colab-df-convert:hover {\n",
              "      background-color: #434B5C;\n",
              "      box-shadow: 0px 1px 3px 1px rgba(0, 0, 0, 0.15);\n",
              "      filter: drop-shadow(0px 1px 2px rgba(0, 0, 0, 0.3));\n",
              "      fill: #FFFFFF;\n",
              "    }\n",
              "  </style>\n",
              "\n",
              "      <script>\n",
              "        const buttonEl =\n",
              "          document.querySelector('#df-fd83a9c7-717a-4c9a-b2e5-0580b003b04a button.colab-df-convert');\n",
              "        buttonEl.style.display =\n",
              "          google.colab.kernel.accessAllowed ? 'block' : 'none';\n",
              "\n",
              "        async function convertToInteractive(key) {\n",
              "          const element = document.querySelector('#df-fd83a9c7-717a-4c9a-b2e5-0580b003b04a');\n",
              "          const dataTable =\n",
              "            await google.colab.kernel.invokeFunction('convertToInteractive',\n",
              "                                                     [key], {});\n",
              "          if (!dataTable) return;\n",
              "\n",
              "          const docLinkHtml = 'Like what you see? Visit the ' +\n",
              "            '<a target=\"_blank\" href=https://colab.research.google.com/notebooks/data_table.ipynb>data table notebook</a>'\n",
              "            + ' to learn more about interactive tables.';\n",
              "          element.innerHTML = '';\n",
              "          dataTable['output_type'] = 'display_data';\n",
              "          await google.colab.output.renderOutput(dataTable, element);\n",
              "          const docLink = document.createElement('div');\n",
              "          docLink.innerHTML = docLinkHtml;\n",
              "          element.appendChild(docLink);\n",
              "        }\n",
              "      </script>\n",
              "    </div>\n",
              "  </div>\n",
              "  "
            ],
            "text/plain": [
              "                     heartrate  resprate  o2sat    sbp   dbp\n",
              "Timestamp                                                   \n",
              "2023-05-06 00:00:00       83.0      24.0   97.0   90.0  51.0\n",
              "2023-05-06 00:00:01       85.0      22.0   98.0   76.0  39.0\n",
              "2023-05-06 00:00:02       84.0      22.0   97.0   75.0  39.0\n",
              "2023-05-06 00:00:03       84.0      20.0   99.0   86.0  51.0\n",
              "2023-05-06 00:00:04       86.0      20.0   98.0   65.0  37.0\n",
              "...                        ...       ...    ...    ...   ...\n",
              "2023-05-07 06:42:37       69.0      22.0  100.0  127.0  53.0\n",
              "2023-05-07 06:42:38       67.0      16.0   99.0  140.0  74.0\n",
              "2023-05-07 06:42:39       65.0      16.0   99.0  125.0  79.0\n",
              "2023-05-07 06:42:40       68.0      18.0  100.0  130.0  68.0\n",
              "2023-05-07 06:42:41       75.0      17.0   98.0  134.0   5.0\n",
              "\n",
              "[110562 rows x 5 columns]"
            ]
          },
          "execution_count": 7,
          "metadata": {},
          "output_type": "execute_result"
        }
      ],
      "source": [
        "df"
      ]
    },
    {
      "cell_type": "code",
      "execution_count": null,
      "metadata": {
        "colab": {
          "base_uri": "https://localhost:8080/"
        },
        "id": "jWve3WGQ62GJ",
        "outputId": "1bd05f3c-042f-4e3a-aa51-f346ac2eba2d"
      },
      "outputs": [
        {
          "name": "stdout",
          "output_type": "stream",
          "text": [
            "<class 'pandas.core.frame.DataFrame'>\n",
            "Index: 110562 entries, 2023-05-06 00:00:00 to 2023-05-07 06:42:41\n",
            "Data columns (total 5 columns):\n",
            " #   Column     Non-Null Count   Dtype  \n",
            "---  ------     --------------   -----  \n",
            " 0   heartrate  110562 non-null  float64\n",
            " 1   resprate   110562 non-null  float64\n",
            " 2   o2sat      110562 non-null  float64\n",
            " 3   sbp        110562 non-null  float64\n",
            " 4   dbp        110562 non-null  float64\n",
            "dtypes: float64(5)\n",
            "memory usage: 5.1+ MB\n"
          ]
        }
      ],
      "source": [
        "data=df\n",
        "data.info()"
      ]
    },
    {
      "cell_type": "code",
      "execution_count": null,
      "metadata": {
        "id": "goRXaHZvCdhc"
      },
      "outputs": [],
      "source": [
        "train_df = df.iloc[:-1000]\n",
        "val_df = df.iloc[-1000:]"
      ]
    },
    {
      "cell_type": "code",
      "execution_count": null,
      "metadata": {
        "id": "LhmBhkF6Ce9W"
      },
      "outputs": [],
      "source": [
        "from sklearn.preprocessing import MinMaxScaler\n",
        "scaler = MinMaxScaler()\n",
        "train_data = scaler.fit_transform(train_df)\n",
        "val_data = scaler.transform(val_df)\n"
      ]
    },
    {
      "cell_type": "code",
      "execution_count": null,
      "metadata": {
        "id": "l7-kRKx7FPTb"
      },
      "outputs": [],
      "source": [
        "BATCH_SIZE = 256\n",
        "train_ds = tf.data.Dataset.from_tensor_slices((train_data[:-1], train_data[1:])).batch(BATCH_SIZE).shuffle(len(train_data))\n",
        "val_ds = tf.data.Dataset.from_tensor_slices((val_data[:-1], val_data[1:])).batch(BATCH_SIZE)"
      ]
    },
    {
      "cell_type": "code",
      "execution_count": null,
      "metadata": {
        "id": "Dxv9JOJGFTyk"
      },
      "outputs": [],
      "source": [
        "inputs = tf.keras.layers.Input(shape=(train_data.shape[1],))\n",
        "x = tf.keras.layers.Dense(64, activation='relu')(inputs)\n",
        "x = tf.keras.layers.Dense(32, activation='relu')(x)\n",
        "outputs = tf.keras.layers.Dense(train_data.shape[1], activation='linear')(x)\n",
        "model = tf.keras.models.Model(inputs=inputs, outputs=outputs)"
      ]
    },
    {
      "cell_type": "code",
      "execution_count": null,
      "metadata": {
        "id": "8I2xiTyqEhYv"
      },
      "outputs": [],
      "source": [
        "model.compile(optimizer='adam', loss='mse')"
      ]
    },
    {
      "cell_type": "code",
      "execution_count": null,
      "metadata": {
        "colab": {
          "base_uri": "https://localhost:8080/"
        },
        "id": "OJaUzA3aEj2V",
        "outputId": "8b120602-45bd-414e-da4d-5a1050e172f7"
      },
      "outputs": [
        {
          "name": "stdout",
          "output_type": "stream",
          "text": [
            "Epoch 1/100\n",
            "428/428 [==============================] - 3s 3ms/step - loss: 0.0014 - val_loss: 6.2580e-04\n",
            "Epoch 2/100\n",
            "428/428 [==============================] - 1s 2ms/step - loss: 7.1113e-04 - val_loss: 6.1639e-04\n",
            "Epoch 3/100\n",
            "428/428 [==============================] - 1s 2ms/step - loss: 7.0758e-04 - val_loss: 6.1190e-04\n",
            "Epoch 4/100\n",
            "428/428 [==============================] - 1s 2ms/step - loss: 7.0643e-04 - val_loss: 6.1643e-04\n",
            "Epoch 5/100\n",
            "428/428 [==============================] - 1s 2ms/step - loss: 7.0535e-04 - val_loss: 6.0882e-04\n",
            "Epoch 6/100\n",
            "428/428 [==============================] - 1s 2ms/step - loss: 7.0590e-04 - val_loss: 6.1609e-04\n",
            "Epoch 7/100\n",
            "428/428 [==============================] - 1s 2ms/step - loss: 7.0356e-04 - val_loss: 6.0916e-04\n",
            "Epoch 8/100\n",
            "428/428 [==============================] - 1s 2ms/step - loss: 7.0304e-04 - val_loss: 6.1798e-04\n",
            "Epoch 9/100\n",
            "428/428 [==============================] - 1s 2ms/step - loss: 7.0667e-04 - val_loss: 6.0778e-04\n",
            "Epoch 10/100\n",
            "428/428 [==============================] - 1s 3ms/step - loss: 7.0554e-04 - val_loss: 6.1051e-04\n",
            "Epoch 11/100\n",
            "428/428 [==============================] - 1s 2ms/step - loss: 7.0334e-04 - val_loss: 6.2747e-04\n",
            "Epoch 12/100\n",
            "428/428 [==============================] - 1s 2ms/step - loss: 7.0637e-04 - val_loss: 6.0990e-04\n",
            "Epoch 13/100\n",
            "428/428 [==============================] - 1s 2ms/step - loss: 7.0307e-04 - val_loss: 6.0811e-04\n",
            "Epoch 14/100\n",
            "428/428 [==============================] - 1s 2ms/step - loss: 7.0419e-04 - val_loss: 6.2885e-04\n",
            "Epoch 15/100\n",
            "428/428 [==============================] - 1s 2ms/step - loss: 7.0307e-04 - val_loss: 6.0882e-04\n",
            "Epoch 16/100\n",
            "428/428 [==============================] - 1s 2ms/step - loss: 7.0165e-04 - val_loss: 6.0687e-04\n",
            "Epoch 17/100\n",
            "428/428 [==============================] - 1s 2ms/step - loss: 7.0310e-04 - val_loss: 6.3755e-04\n",
            "Epoch 18/100\n",
            "428/428 [==============================] - 1s 2ms/step - loss: 7.0328e-04 - val_loss: 6.1166e-04\n",
            "Epoch 19/100\n",
            "428/428 [==============================] - 1s 2ms/step - loss: 7.0230e-04 - val_loss: 6.0745e-04\n",
            "Epoch 20/100\n",
            "428/428 [==============================] - 1s 2ms/step - loss: 7.0131e-04 - val_loss: 6.0579e-04\n",
            "Epoch 21/100\n",
            "428/428 [==============================] - 1s 2ms/step - loss: 7.0388e-04 - val_loss: 6.1991e-04\n",
            "Epoch 22/100\n",
            "428/428 [==============================] - 1s 2ms/step - loss: 6.9969e-04 - val_loss: 6.1089e-04\n",
            "Epoch 23/100\n",
            "428/428 [==============================] - 1s 2ms/step - loss: 7.0126e-04 - val_loss: 6.0610e-04\n",
            "Epoch 24/100\n",
            "428/428 [==============================] - 1s 2ms/step - loss: 7.0071e-04 - val_loss: 6.1604e-04\n",
            "Epoch 25/100\n",
            "428/428 [==============================] - 1s 2ms/step - loss: 6.9999e-04 - val_loss: 6.0510e-04\n",
            "Epoch 26/100\n",
            "428/428 [==============================] - 1s 2ms/step - loss: 7.0077e-04 - val_loss: 6.1010e-04\n",
            "Epoch 27/100\n",
            "428/428 [==============================] - 1s 2ms/step - loss: 7.0029e-04 - val_loss: 6.0917e-04\n",
            "Epoch 28/100\n",
            "428/428 [==============================] - 1s 3ms/step - loss: 7.0239e-04 - val_loss: 6.1079e-04\n",
            "Epoch 29/100\n",
            "428/428 [==============================] - 1s 2ms/step - loss: 6.9889e-04 - val_loss: 6.1003e-04\n",
            "Epoch 30/100\n",
            "428/428 [==============================] - 1s 2ms/step - loss: 7.0108e-04 - val_loss: 6.0238e-04\n",
            "Epoch 31/100\n",
            "428/428 [==============================] - 1s 2ms/step - loss: 6.9768e-04 - val_loss: 6.0186e-04\n",
            "Epoch 32/100\n",
            "428/428 [==============================] - 1s 2ms/step - loss: 7.0047e-04 - val_loss: 5.9910e-04\n",
            "Epoch 33/100\n",
            "428/428 [==============================] - 1s 2ms/step - loss: 6.9877e-04 - val_loss: 6.1272e-04\n",
            "Epoch 34/100\n",
            "428/428 [==============================] - 1s 2ms/step - loss: 6.9771e-04 - val_loss: 6.0336e-04\n",
            "Epoch 35/100\n",
            "428/428 [==============================] - 1s 2ms/step - loss: 6.9859e-04 - val_loss: 5.9998e-04\n",
            "Epoch 36/100\n",
            "428/428 [==============================] - 1s 2ms/step - loss: 6.9701e-04 - val_loss: 6.0242e-04\n",
            "Epoch 37/100\n",
            "428/428 [==============================] - 1s 3ms/step - loss: 6.9734e-04 - val_loss: 6.2261e-04\n",
            "Epoch 38/100\n",
            "428/428 [==============================] - 1s 2ms/step - loss: 6.9819e-04 - val_loss: 6.0227e-04\n",
            "Epoch 39/100\n",
            "428/428 [==============================] - 1s 2ms/step - loss: 6.9698e-04 - val_loss: 5.9962e-04\n",
            "Epoch 40/100\n",
            "428/428 [==============================] - 1s 2ms/step - loss: 6.9725e-04 - val_loss: 5.9973e-04\n",
            "Epoch 41/100\n",
            "428/428 [==============================] - 1s 2ms/step - loss: 6.9795e-04 - val_loss: 6.0350e-04\n",
            "Epoch 42/100\n",
            "428/428 [==============================] - 1s 2ms/step - loss: 6.9783e-04 - val_loss: 6.0472e-04\n",
            "Epoch 43/100\n",
            "428/428 [==============================] - 1s 2ms/step - loss: 6.9802e-04 - val_loss: 6.0155e-04\n",
            "Epoch 44/100\n",
            "428/428 [==============================] - 1s 2ms/step - loss: 6.9744e-04 - val_loss: 6.0419e-04\n",
            "Epoch 45/100\n",
            "428/428 [==============================] - 1s 3ms/step - loss: 6.9771e-04 - val_loss: 5.9923e-04\n",
            "Epoch 46/100\n",
            "428/428 [==============================] - 3s 6ms/step - loss: 6.9759e-04 - val_loss: 6.0604e-04\n",
            "Epoch 47/100\n",
            "428/428 [==============================] - 3s 5ms/step - loss: 6.9763e-04 - val_loss: 5.9792e-04\n",
            "Epoch 48/100\n",
            "428/428 [==============================] - 2s 4ms/step - loss: 6.9694e-04 - val_loss: 6.0276e-04\n",
            "Epoch 49/100\n",
            "428/428 [==============================] - 2s 4ms/step - loss: 6.9591e-04 - val_loss: 6.0327e-04\n",
            "Epoch 50/100\n",
            "428/428 [==============================] - 3s 5ms/step - loss: 6.9675e-04 - val_loss: 5.9694e-04\n",
            "Epoch 51/100\n",
            "428/428 [==============================] - 2s 3ms/step - loss: 6.9626e-04 - val_loss: 6.0101e-04\n",
            "Epoch 52/100\n",
            "428/428 [==============================] - 2s 4ms/step - loss: 6.9695e-04 - val_loss: 5.9801e-04\n",
            "Epoch 53/100\n",
            "428/428 [==============================] - 2s 3ms/step - loss: 6.9723e-04 - val_loss: 6.0038e-04\n",
            "Epoch 54/100\n",
            "428/428 [==============================] - 2s 3ms/step - loss: 6.9636e-04 - val_loss: 6.1476e-04\n",
            "Epoch 55/100\n",
            "428/428 [==============================] - 4s 7ms/step - loss: 6.9701e-04 - val_loss: 6.0174e-04\n",
            "Epoch 56/100\n",
            "428/428 [==============================] - 2s 5ms/step - loss: 6.9637e-04 - val_loss: 6.0949e-04\n",
            "Epoch 57/100\n",
            "428/428 [==============================] - 1s 2ms/step - loss: 6.9611e-04 - val_loss: 6.0217e-04\n",
            "Epoch 58/100\n",
            "428/428 [==============================] - 1s 2ms/step - loss: 6.9591e-04 - val_loss: 6.0209e-04\n",
            "Epoch 59/100\n",
            "428/428 [==============================] - 1s 2ms/step - loss: 6.9632e-04 - val_loss: 6.0810e-04\n",
            "Epoch 60/100\n",
            "428/428 [==============================] - 1s 2ms/step - loss: 6.9642e-04 - val_loss: 6.0169e-04\n",
            "Epoch 61/100\n",
            "428/428 [==============================] - 2s 4ms/step - loss: 6.9875e-04 - val_loss: 6.0379e-04\n",
            "Epoch 62/100\n",
            "428/428 [==============================] - 3s 7ms/step - loss: 6.9651e-04 - val_loss: 6.0274e-04\n",
            "Epoch 63/100\n",
            "428/428 [==============================] - 1s 2ms/step - loss: 6.9529e-04 - val_loss: 6.1890e-04\n",
            "Epoch 64/100\n",
            "428/428 [==============================] - 1s 2ms/step - loss: 6.9562e-04 - val_loss: 6.0062e-04\n",
            "Epoch 65/100\n",
            "428/428 [==============================] - 1s 2ms/step - loss: 6.9582e-04 - val_loss: 6.1029e-04\n",
            "Epoch 66/100\n",
            "428/428 [==============================] - 1s 2ms/step - loss: 6.9624e-04 - val_loss: 6.0743e-04\n",
            "Epoch 67/100\n",
            "428/428 [==============================] - 1s 2ms/step - loss: 6.9620e-04 - val_loss: 5.9624e-04\n",
            "Epoch 68/100\n",
            "428/428 [==============================] - 1s 2ms/step - loss: 6.9469e-04 - val_loss: 6.2569e-04\n",
            "Epoch 69/100\n",
            "428/428 [==============================] - 1s 2ms/step - loss: 6.9586e-04 - val_loss: 6.0111e-04\n",
            "Epoch 70/100\n",
            "428/428 [==============================] - 1s 2ms/step - loss: 6.9554e-04 - val_loss: 6.0033e-04\n",
            "Epoch 71/100\n",
            "428/428 [==============================] - 1s 2ms/step - loss: 6.9548e-04 - val_loss: 6.0299e-04\n",
            "Epoch 72/100\n",
            "428/428 [==============================] - 1s 2ms/step - loss: 6.9673e-04 - val_loss: 5.9899e-04\n",
            "Epoch 73/100\n",
            "428/428 [==============================] - 1s 2ms/step - loss: 6.9508e-04 - val_loss: 6.0311e-04\n",
            "Epoch 74/100\n",
            "428/428 [==============================] - 1s 2ms/step - loss: 6.9598e-04 - val_loss: 5.9707e-04\n",
            "Epoch 75/100\n",
            "428/428 [==============================] - 1s 2ms/step - loss: 6.9507e-04 - val_loss: 6.0072e-04\n",
            "Epoch 76/100\n",
            "428/428 [==============================] - 1s 2ms/step - loss: 6.9580e-04 - val_loss: 6.0090e-04\n",
            "Epoch 77/100\n",
            "428/428 [==============================] - 1s 2ms/step - loss: 6.9509e-04 - val_loss: 6.1130e-04\n",
            "Epoch 78/100\n",
            "428/428 [==============================] - 1s 2ms/step - loss: 6.9693e-04 - val_loss: 6.0639e-04\n",
            "Epoch 79/100\n",
            "428/428 [==============================] - 1s 3ms/step - loss: 6.9552e-04 - val_loss: 5.9721e-04\n",
            "Epoch 80/100\n",
            "428/428 [==============================] - 1s 2ms/step - loss: 6.9505e-04 - val_loss: 6.0046e-04\n",
            "Epoch 81/100\n",
            "428/428 [==============================] - 1s 2ms/step - loss: 6.9607e-04 - val_loss: 5.9861e-04\n",
            "Epoch 82/100\n",
            "428/428 [==============================] - 1s 2ms/step - loss: 6.9479e-04 - val_loss: 6.0646e-04\n",
            "Epoch 83/100\n",
            "428/428 [==============================] - 1s 2ms/step - loss: 6.9431e-04 - val_loss: 5.9932e-04\n",
            "Epoch 84/100\n",
            "428/428 [==============================] - 1s 2ms/step - loss: 6.9474e-04 - val_loss: 6.0140e-04\n",
            "Epoch 85/100\n",
            "428/428 [==============================] - 1s 2ms/step - loss: 6.9539e-04 - val_loss: 5.9797e-04\n",
            "Epoch 86/100\n",
            "428/428 [==============================] - 1s 2ms/step - loss: 6.9463e-04 - val_loss: 6.0551e-04\n",
            "Epoch 87/100\n",
            "428/428 [==============================] - 1s 2ms/step - loss: 6.9632e-04 - val_loss: 6.0359e-04\n",
            "Epoch 88/100\n",
            "428/428 [==============================] - 1s 3ms/step - loss: 6.9480e-04 - val_loss: 6.1124e-04\n",
            "Epoch 89/100\n",
            "428/428 [==============================] - 1s 2ms/step - loss: 6.9546e-04 - val_loss: 5.9663e-04\n",
            "Epoch 90/100\n",
            "428/428 [==============================] - 1s 2ms/step - loss: 6.9513e-04 - val_loss: 6.0095e-04\n",
            "Epoch 91/100\n",
            "428/428 [==============================] - 1s 2ms/step - loss: 6.9539e-04 - val_loss: 6.0035e-04\n",
            "Epoch 92/100\n",
            "428/428 [==============================] - 1s 2ms/step - loss: 6.9523e-04 - val_loss: 6.0139e-04\n",
            "Epoch 93/100\n",
            "428/428 [==============================] - 1s 2ms/step - loss: 6.9410e-04 - val_loss: 6.0019e-04\n",
            "Epoch 94/100\n",
            "428/428 [==============================] - 1s 2ms/step - loss: 6.9397e-04 - val_loss: 5.9692e-04\n",
            "Epoch 95/100\n",
            "428/428 [==============================] - 1s 2ms/step - loss: 6.9519e-04 - val_loss: 5.9708e-04\n",
            "Epoch 96/100\n",
            "428/428 [==============================] - 2s 3ms/step - loss: 6.9547e-04 - val_loss: 6.0312e-04\n",
            "Epoch 97/100\n",
            "428/428 [==============================] - 2s 2ms/step - loss: 6.9378e-04 - val_loss: 6.0545e-04\n",
            "Epoch 98/100\n",
            "428/428 [==============================] - 1s 2ms/step - loss: 6.9385e-04 - val_loss: 6.0703e-04\n",
            "Epoch 99/100\n",
            "428/428 [==============================] - 1s 2ms/step - loss: 6.9391e-04 - val_loss: 5.9774e-04\n",
            "Epoch 100/100\n",
            "428/428 [==============================] - 1s 2ms/step - loss: 6.9422e-04 - val_loss: 6.0290e-04\n"
          ]
        }
      ],
      "source": [
        "EPOCHS = 100\n",
        "history = model.fit(train_ds, epochs=EPOCHS, validation_data=val_ds)"
      ]
    },
    {
      "cell_type": "code",
      "execution_count": null,
      "metadata": {
        "id": "SMiOGBcXEmI3"
      },
      "outputs": [],
      "source": [
        "#last_row=train_data[-1:]"
      ]
    },
    {
      "cell_type": "code",
      "execution_count": null,
      "metadata": {
        "id": "cTEP7Uzltzm3"
      },
      "outputs": [],
      "source": [
        "#last_row=train_data.iloc[[i]]"
      ]
    },
    {
      "cell_type": "code",
      "execution_count": null,
      "metadata": {
        "id": "_osjLeEcXghW"
      },
      "outputs": [],
      "source": [
        "#(last_row)"
      ]
    },
    {
      "cell_type": "code",
      "execution_count": null,
      "metadata": {
        "id": "HSaQMvmZv8Hf"
      },
      "outputs": [],
      "source": [
        "#last_rows = train_data.iloc[max(0, 1-4):1+1]"
      ]
    },
    {
      "cell_type": "code",
      "execution_count": null,
      "metadata": {
        "id": "2eZd8Zzew3iZ"
      },
      "outputs": [],
      "source": [
        "#last_rows = train_data.iloc[1:1+5]\n",
        "#last_row = last_rows.iloc[:,:-1]"
      ]
    },
    {
      "cell_type": "code",
      "execution_count": null,
      "metadata": {
        "colab": {
          "base_uri": "https://localhost:8080/",
          "height": 105
        },
        "id": "8crS6fU2Pm3D",
        "outputId": "8f6a0535-c6b5-4d12-e505-5c0533fa76f8"
      },
      "outputs": [
        {
          "data": {
            "application/vnd.google.colaboratory.intrinsic+json": {
              "type": "string"
            },
            "text/plain": [
              "'next_values = []\\nfor i in range(5):\\n    # Predict the next set of values\\n    predicted_values_1 = model.predict(last_row)\\n    #print(predicted_values_1)\\n    # Inverse transform the predicted values using the scaler\\n    predicted_values = scaler.inverse_transform(predicted_values_1)\\n    print(predicted_values)\\n    # Add the predicted values to the list\\n    next_values.append(predicted_values)\\n\\n    # Update the last row with the predicted values\\n    last_row =  np.vstack([last_row[1:], predicted_values])\\n\\n# Print the predicted values\\nnext_values = np.array(next_values).reshape((5, train_data.shape[1]))\\n#print(next_values)'"
            ]
          },
          "execution_count": 20,
          "metadata": {},
          "output_type": "execute_result"
        }
      ],
      "source": [
        "'''next_values = []\n",
        "for i in range(5):\n",
        "    # Predict the next set of values\n",
        "    predicted_values_1 = model.predict(last_row)\n",
        "    #print(predicted_values_1)\n",
        "    # Inverse transform the predicted values using the scaler\n",
        "    predicted_values = scaler.inverse_transform(predicted_values_1)\n",
        "    print(predicted_values)\n",
        "    # Add the predicted values to the list\n",
        "    next_values.append(predicted_values)\n",
        "\n",
        "    # Update the last row with the predicted values\n",
        "    last_row =  np.vstack([last_row[1:], predicted_values])\n",
        "\n",
        "# Print the predicted values\n",
        "next_values = np.array(next_values).reshape((5, train_data.shape[1]))\n",
        "#print(next_values)'''"
      ]
    },
    {
      "cell_type": "code",
      "execution_count": null,
      "metadata": {
        "id": "_PMgfsxxV0U7"
      },
      "outputs": [],
      "source": [
        "import random as rand"
      ]
    },
    {
      "cell_type": "code",
      "execution_count": null,
      "metadata": {
        "id": "rqpUM5_TV5eA"
      },
      "outputs": [],
      "source": [
        "rand.seed(109)\n",
        "sbp_L, sbp_H = 40, 150\n",
        "dbp_L, dbp_H = 30, 120\n",
        "hr_L, hr_H = 20, 250\n",
        "o2sat_L, o2sat_H = 30, 190\n",
        "rr_L, rr_H = 5, 35"
      ]
    },
    {
      "cell_type": "code",
      "execution_count": null,
      "metadata": {
        "colab": {
          "base_uri": "https://localhost:8080/",
          "height": 140
        },
        "id": "ZFM0KmFjU_hN",
        "outputId": "35101228-b77a-47eb-8b9e-db437bb79674"
      },
      "outputs": [
        {
          "data": {
            "application/vnd.google.colaboratory.intrinsic+json": {
              "type": "string"
            },
            "text/plain": [
              "\"#n=0\\n#without instabillty prediction\\nnext_values = []\\ndata_sim = pd.DataFrame(columns=['o2sat', 'sbp', 'dbp', 'heartrate', 'resprate'])\\nwhile True:\\n  #last_row=[]\\n  sbp = [rand.randint(sbp_L,sbp_H)]\\n  dbp = [rand.randint(dbp_L,dbp_H)]\\n  heartrate = [rand.randint(hr_L,hr_H)]\\n  o2sat = [rand.randint(o2sat_L,o2sat_H)]\\n  resprate = [rand.randint(rr_L,rr_H)]\\n  data={'o2sat':o2sat, 'sbp':sbp, 'dbp':dbp, 'heartrate':heartrate, 'resprate':resprate}\\n  df2 = pd.DataFrame(data)\\n  data_sim = pd.concat([data_sim, df2], ignore_index=True)\\n  print(data_sim)\\n  last_row=data_sim[-1:].to_numpy().astype('float32')\\n  last_row=scaler.fit_transform(last_row)\\n  for i in range(5):\\n    # Predict the next set of values\\n    predicted_values_1 = model.predict(last_row)\\n    #print(predicted_values_1)\\n    # Inverse transform the predicted values using the scaler\\n    predicted_values = scaler.inverse_transform(predicted_values_1)\\n    print(predicted_values)\\n    # Add the predicted values to the list\\n    next_values.append(predicted_values)\\n    # Update the last row with the predicted values\\n    #last_row =  np.vstack([last_row[1:], np.array(next_values[-5:]).reshape((5, last_row.shape[1]))])\\n    #last_row =  np.vstack([last_row[1:], np.array(next_values[-5:]).reshape((5, last_row.shape[1]))])\\n    last_row = np.vstack([last_row[1:], predicted_values])\\n  # next_values = np.array(next_values).reshape((5, 1))\\n  # next_values = np.array(next_values).reshape((5, 1))\\n    tf.keras.backend.clear_session()\\n # next_values = np.array(next_values).reshape((2, 1))\""
            ]
          },
          "execution_count": 23,
          "metadata": {},
          "output_type": "execute_result"
        }
      ],
      "source": [
        "'''#n=0\n",
        "#without instabillty prediction\n",
        "next_values = []\n",
        "data_sim = pd.DataFrame(columns=['o2sat', 'sbp', 'dbp', 'heartrate', 'resprate'])\n",
        "while True:\n",
        "  #last_row=[]\n",
        "  sbp = [rand.randint(sbp_L,sbp_H)]\n",
        "  dbp = [rand.randint(dbp_L,dbp_H)]\n",
        "  heartrate = [rand.randint(hr_L,hr_H)]\n",
        "  o2sat = [rand.randint(o2sat_L,o2sat_H)]\n",
        "  resprate = [rand.randint(rr_L,rr_H)]\n",
        "  data={'o2sat':o2sat, 'sbp':sbp, 'dbp':dbp, 'heartrate':heartrate, 'resprate':resprate}\n",
        "  df2 = pd.DataFrame(data)\n",
        "  data_sim = pd.concat([data_sim, df2], ignore_index=True)\n",
        "  print(data_sim)\n",
        "  last_row=data_sim[-1:].to_numpy().astype('float32')\n",
        "  last_row=scaler.fit_transform(last_row)\n",
        "  for i in range(5):\n",
        "    # Predict the next set of values\n",
        "    predicted_values_1 = model.predict(last_row)\n",
        "    #print(predicted_values_1)\n",
        "    # Inverse transform the predicted values using the scaler\n",
        "    predicted_values = scaler.inverse_transform(predicted_values_1)\n",
        "    print(predicted_values)\n",
        "    # Add the predicted values to the list\n",
        "    next_values.append(predicted_values)\n",
        "    # Update the last row with the predicted values\n",
        "    #last_row =  np.vstack([last_row[1:], np.array(next_values[-5:]).reshape((5, last_row.shape[1]))])\n",
        "    #last_row =  np.vstack([last_row[1:], np.array(next_values[-5:]).reshape((5, last_row.shape[1]))])\n",
        "    last_row = np.vstack([last_row[1:], predicted_values])\n",
        "  # next_values = np.array(next_values).reshape((5, 1))\n",
        "  # next_values = np.array(next_values).reshape((5, 1))\n",
        "    tf.keras.backend.clear_session()\n",
        " # next_values = np.array(next_values).reshape((2, 1))'''"
      ]
    },
    {
      "cell_type": "code",
      "execution_count": null,
      "metadata": {
        "id": "EnmoiW8JdOfZ"
      },
      "outputs": [],
      "source": [
        "sbp_threshold = 90\n",
        "hr_threshold = 100\n",
        "o2sat_threshold = 90\n",
        "rr_threshold = 20\n",
        "#instability = ((df['sbp'] < sbp_threshold) & (df['heartrate'] > hr_threshold)) | \\\n",
        "              #((df['o2sat'] < o2sat_threshold) & (df['resprate'] > rr_threshold))"
      ]
    },
    {
      "cell_type": "code",
      "execution_count": null,
      "metadata": {
        "id": "zQxelIp2dSvi"
      },
      "outputs": [],
      "source": [
        "rolling_mean_data = df.rolling(5).mean().dropna()"
      ]
    },
    {
      "cell_type": "code",
      "execution_count": null,
      "metadata": {
        "id": "rFMe51zmddhh"
      },
      "outputs": [],
      "source": [
        "rolling_mean_data['instability'] = np.where(((rolling_mean_data['sbp'] < sbp_threshold) & (rolling_mean_data['heartrate'] > hr_threshold)) | \\\n",
        "              ((rolling_mean_data['o2sat'] < o2sat_threshold) & (rolling_mean_data['resprate'] > rr_threshold)), 1, 0)"
      ]
    },
    {
      "cell_type": "code",
      "execution_count": null,
      "metadata": {
        "colab": {
          "base_uri": "https://localhost:8080/",
          "height": 455
        },
        "id": "tOm0LMHAde4O",
        "outputId": "0153c2d3-978a-435e-fc6e-4b047a696708"
      },
      "outputs": [
        {
          "data": {
            "text/html": [
              "\n",
              "  <div id=\"df-e4a6ce0d-a04b-4735-a8b6-de654d29cd44\">\n",
              "    <div class=\"colab-df-container\">\n",
              "      <div>\n",
              "<style scoped>\n",
              "    .dataframe tbody tr th:only-of-type {\n",
              "        vertical-align: middle;\n",
              "    }\n",
              "\n",
              "    .dataframe tbody tr th {\n",
              "        vertical-align: top;\n",
              "    }\n",
              "\n",
              "    .dataframe thead th {\n",
              "        text-align: right;\n",
              "    }\n",
              "</style>\n",
              "<table border=\"1\" class=\"dataframe\">\n",
              "  <thead>\n",
              "    <tr style=\"text-align: right;\">\n",
              "      <th></th>\n",
              "      <th>heartrate</th>\n",
              "      <th>resprate</th>\n",
              "      <th>o2sat</th>\n",
              "      <th>sbp</th>\n",
              "      <th>dbp</th>\n",
              "      <th>instability</th>\n",
              "    </tr>\n",
              "    <tr>\n",
              "      <th>Timestamp</th>\n",
              "      <th></th>\n",
              "      <th></th>\n",
              "      <th></th>\n",
              "      <th></th>\n",
              "      <th></th>\n",
              "      <th></th>\n",
              "    </tr>\n",
              "  </thead>\n",
              "  <tbody>\n",
              "    <tr>\n",
              "      <th>2023-05-06 00:00:04</th>\n",
              "      <td>84.4</td>\n",
              "      <td>21.6</td>\n",
              "      <td>97.8</td>\n",
              "      <td>78.4</td>\n",
              "      <td>43.4</td>\n",
              "      <td>0</td>\n",
              "    </tr>\n",
              "    <tr>\n",
              "      <th>2023-05-06 00:00:05</th>\n",
              "      <td>84.8</td>\n",
              "      <td>20.0</td>\n",
              "      <td>98.2</td>\n",
              "      <td>77.0</td>\n",
              "      <td>42.2</td>\n",
              "      <td>0</td>\n",
              "    </tr>\n",
              "    <tr>\n",
              "      <th>2023-05-06 00:00:06</th>\n",
              "      <td>84.8</td>\n",
              "      <td>19.2</td>\n",
              "      <td>98.2</td>\n",
              "      <td>78.0</td>\n",
              "      <td>42.0</td>\n",
              "      <td>0</td>\n",
              "    </tr>\n",
              "    <tr>\n",
              "      <th>2023-05-06 00:00:07</th>\n",
              "      <td>83.8</td>\n",
              "      <td>18.0</td>\n",
              "      <td>98.4</td>\n",
              "      <td>84.4</td>\n",
              "      <td>46.2</td>\n",
              "      <td>0</td>\n",
              "    </tr>\n",
              "    <tr>\n",
              "      <th>2023-05-06 00:00:08</th>\n",
              "      <td>86.2</td>\n",
              "      <td>17.4</td>\n",
              "      <td>98.6</td>\n",
              "      <td>87.6</td>\n",
              "      <td>47.6</td>\n",
              "      <td>0</td>\n",
              "    </tr>\n",
              "    <tr>\n",
              "      <th>...</th>\n",
              "      <td>...</td>\n",
              "      <td>...</td>\n",
              "      <td>...</td>\n",
              "      <td>...</td>\n",
              "      <td>...</td>\n",
              "      <td>...</td>\n",
              "    </tr>\n",
              "    <tr>\n",
              "      <th>2023-05-07 06:42:37</th>\n",
              "      <td>73.2</td>\n",
              "      <td>17.0</td>\n",
              "      <td>99.0</td>\n",
              "      <td>125.6</td>\n",
              "      <td>67.2</td>\n",
              "      <td>0</td>\n",
              "    </tr>\n",
              "    <tr>\n",
              "      <th>2023-05-07 06:42:38</th>\n",
              "      <td>73.0</td>\n",
              "      <td>17.0</td>\n",
              "      <td>99.4</td>\n",
              "      <td>131.8</td>\n",
              "      <td>70.6</td>\n",
              "      <td>0</td>\n",
              "    </tr>\n",
              "    <tr>\n",
              "      <th>2023-05-07 06:42:39</th>\n",
              "      <td>69.6</td>\n",
              "      <td>17.0</td>\n",
              "      <td>99.2</td>\n",
              "      <td>129.2</td>\n",
              "      <td>71.4</td>\n",
              "      <td>0</td>\n",
              "    </tr>\n",
              "    <tr>\n",
              "      <th>2023-05-07 06:42:40</th>\n",
              "      <td>68.2</td>\n",
              "      <td>17.6</td>\n",
              "      <td>99.2</td>\n",
              "      <td>130.2</td>\n",
              "      <td>71.0</td>\n",
              "      <td>0</td>\n",
              "    </tr>\n",
              "    <tr>\n",
              "      <th>2023-05-07 06:42:41</th>\n",
              "      <td>68.8</td>\n",
              "      <td>17.8</td>\n",
              "      <td>99.2</td>\n",
              "      <td>131.2</td>\n",
              "      <td>55.8</td>\n",
              "      <td>0</td>\n",
              "    </tr>\n",
              "  </tbody>\n",
              "</table>\n",
              "<p>110558 rows × 6 columns</p>\n",
              "</div>\n",
              "      <button class=\"colab-df-convert\" onclick=\"convertToInteractive('df-e4a6ce0d-a04b-4735-a8b6-de654d29cd44')\"\n",
              "              title=\"Convert this dataframe to an interactive table.\"\n",
              "              style=\"display:none;\">\n",
              "        \n",
              "  <svg xmlns=\"http://www.w3.org/2000/svg\" height=\"24px\"viewBox=\"0 0 24 24\"\n",
              "       width=\"24px\">\n",
              "    <path d=\"M0 0h24v24H0V0z\" fill=\"none\"/>\n",
              "    <path d=\"M18.56 5.44l.94 2.06.94-2.06 2.06-.94-2.06-.94-.94-2.06-.94 2.06-2.06.94zm-11 1L8.5 8.5l.94-2.06 2.06-.94-2.06-.94L8.5 2.5l-.94 2.06-2.06.94zm10 10l.94 2.06.94-2.06 2.06-.94-2.06-.94-.94-2.06-.94 2.06-2.06.94z\"/><path d=\"M17.41 7.96l-1.37-1.37c-.4-.4-.92-.59-1.43-.59-.52 0-1.04.2-1.43.59L10.3 9.45l-7.72 7.72c-.78.78-.78 2.05 0 2.83L4 21.41c.39.39.9.59 1.41.59.51 0 1.02-.2 1.41-.59l7.78-7.78 2.81-2.81c.8-.78.8-2.07 0-2.86zM5.41 20L4 18.59l7.72-7.72 1.47 1.35L5.41 20z\"/>\n",
              "  </svg>\n",
              "      </button>\n",
              "      \n",
              "  <style>\n",
              "    .colab-df-container {\n",
              "      display:flex;\n",
              "      flex-wrap:wrap;\n",
              "      gap: 12px;\n",
              "    }\n",
              "\n",
              "    .colab-df-convert {\n",
              "      background-color: #E8F0FE;\n",
              "      border: none;\n",
              "      border-radius: 50%;\n",
              "      cursor: pointer;\n",
              "      display: none;\n",
              "      fill: #1967D2;\n",
              "      height: 32px;\n",
              "      padding: 0 0 0 0;\n",
              "      width: 32px;\n",
              "    }\n",
              "\n",
              "    .colab-df-convert:hover {\n",
              "      background-color: #E2EBFA;\n",
              "      box-shadow: 0px 1px 2px rgba(60, 64, 67, 0.3), 0px 1px 3px 1px rgba(60, 64, 67, 0.15);\n",
              "      fill: #174EA6;\n",
              "    }\n",
              "\n",
              "    [theme=dark] .colab-df-convert {\n",
              "      background-color: #3B4455;\n",
              "      fill: #D2E3FC;\n",
              "    }\n",
              "\n",
              "    [theme=dark] .colab-df-convert:hover {\n",
              "      background-color: #434B5C;\n",
              "      box-shadow: 0px 1px 3px 1px rgba(0, 0, 0, 0.15);\n",
              "      filter: drop-shadow(0px 1px 2px rgba(0, 0, 0, 0.3));\n",
              "      fill: #FFFFFF;\n",
              "    }\n",
              "  </style>\n",
              "\n",
              "      <script>\n",
              "        const buttonEl =\n",
              "          document.querySelector('#df-e4a6ce0d-a04b-4735-a8b6-de654d29cd44 button.colab-df-convert');\n",
              "        buttonEl.style.display =\n",
              "          google.colab.kernel.accessAllowed ? 'block' : 'none';\n",
              "\n",
              "        async function convertToInteractive(key) {\n",
              "          const element = document.querySelector('#df-e4a6ce0d-a04b-4735-a8b6-de654d29cd44');\n",
              "          const dataTable =\n",
              "            await google.colab.kernel.invokeFunction('convertToInteractive',\n",
              "                                                     [key], {});\n",
              "          if (!dataTable) return;\n",
              "\n",
              "          const docLinkHtml = 'Like what you see? Visit the ' +\n",
              "            '<a target=\"_blank\" href=https://colab.research.google.com/notebooks/data_table.ipynb>data table notebook</a>'\n",
              "            + ' to learn more about interactive tables.';\n",
              "          element.innerHTML = '';\n",
              "          dataTable['output_type'] = 'display_data';\n",
              "          await google.colab.output.renderOutput(dataTable, element);\n",
              "          const docLink = document.createElement('div');\n",
              "          docLink.innerHTML = docLinkHtml;\n",
              "          element.appendChild(docLink);\n",
              "        }\n",
              "      </script>\n",
              "    </div>\n",
              "  </div>\n",
              "  "
            ],
            "text/plain": [
              "                     heartrate  resprate  o2sat    sbp   dbp  instability\n",
              "Timestamp                                                                \n",
              "2023-05-06 00:00:04       84.4      21.6   97.8   78.4  43.4            0\n",
              "2023-05-06 00:00:05       84.8      20.0   98.2   77.0  42.2            0\n",
              "2023-05-06 00:00:06       84.8      19.2   98.2   78.0  42.0            0\n",
              "2023-05-06 00:00:07       83.8      18.0   98.4   84.4  46.2            0\n",
              "2023-05-06 00:00:08       86.2      17.4   98.6   87.6  47.6            0\n",
              "...                        ...       ...    ...    ...   ...          ...\n",
              "2023-05-07 06:42:37       73.2      17.0   99.0  125.6  67.2            0\n",
              "2023-05-07 06:42:38       73.0      17.0   99.4  131.8  70.6            0\n",
              "2023-05-07 06:42:39       69.6      17.0   99.2  129.2  71.4            0\n",
              "2023-05-07 06:42:40       68.2      17.6   99.2  130.2  71.0            0\n",
              "2023-05-07 06:42:41       68.8      17.8   99.2  131.2  55.8            0\n",
              "\n",
              "[110558 rows x 6 columns]"
            ]
          },
          "execution_count": 27,
          "metadata": {},
          "output_type": "execute_result"
        }
      ],
      "source": [
        "rolling_mean_data"
      ]
    },
    {
      "cell_type": "code",
      "execution_count": null,
      "metadata": {
        "id": "zZDlvsQndhPl"
      },
      "outputs": [],
      "source": [
        "train_size = int(len(rolling_mean_data) * 0.85)\n",
        "train_data_roll, test_data_roll = rolling_mean_data[:train_size], rolling_mean_data[train_size:]"
      ]
    },
    {
      "cell_type": "code",
      "execution_count": null,
      "metadata": {
        "id": "gjpREkMddt5N"
      },
      "outputs": [],
      "source": [
        "\n",
        "X_train = scaler.fit_transform(train_data_roll[['o2sat', 'sbp', 'dbp', 'heartrate', 'resprate']])\n",
        "y_train = train_data_roll['instability']\n",
        "X_test = scaler.transform(test_data_roll[['o2sat', 'sbp', 'dbp', 'heartrate', 'resprate']])\n",
        "y_test = test_data_roll['instability']"
      ]
    },
    {
      "cell_type": "code",
      "execution_count": null,
      "metadata": {
        "id": "kEVf1Eevd0Ig"
      },
      "outputs": [],
      "source": [
        "from sklearn.ensemble import GradientBoostingClassifier"
      ]
    },
    {
      "cell_type": "code",
      "execution_count": null,
      "metadata": {
        "colab": {
          "base_uri": "https://localhost:8080/",
          "height": 74
        },
        "id": "74JB1wRbd6IM",
        "outputId": "551609af-ac76-48d1-de51-d23851d634e8"
      },
      "outputs": [
        {
          "data": {
            "text/html": [
              "<style>#sk-container-id-1 {color: black;background-color: white;}#sk-container-id-1 pre{padding: 0;}#sk-container-id-1 div.sk-toggleable {background-color: white;}#sk-container-id-1 label.sk-toggleable__label {cursor: pointer;display: block;width: 100%;margin-bottom: 0;padding: 0.3em;box-sizing: border-box;text-align: center;}#sk-container-id-1 label.sk-toggleable__label-arrow:before {content: \"▸\";float: left;margin-right: 0.25em;color: #696969;}#sk-container-id-1 label.sk-toggleable__label-arrow:hover:before {color: black;}#sk-container-id-1 div.sk-estimator:hover label.sk-toggleable__label-arrow:before {color: black;}#sk-container-id-1 div.sk-toggleable__content {max-height: 0;max-width: 0;overflow: hidden;text-align: left;background-color: #f0f8ff;}#sk-container-id-1 div.sk-toggleable__content pre {margin: 0.2em;color: black;border-radius: 0.25em;background-color: #f0f8ff;}#sk-container-id-1 input.sk-toggleable__control:checked~div.sk-toggleable__content {max-height: 200px;max-width: 100%;overflow: auto;}#sk-container-id-1 input.sk-toggleable__control:checked~label.sk-toggleable__label-arrow:before {content: \"▾\";}#sk-container-id-1 div.sk-estimator input.sk-toggleable__control:checked~label.sk-toggleable__label {background-color: #d4ebff;}#sk-container-id-1 div.sk-label input.sk-toggleable__control:checked~label.sk-toggleable__label {background-color: #d4ebff;}#sk-container-id-1 input.sk-hidden--visually {border: 0;clip: rect(1px 1px 1px 1px);clip: rect(1px, 1px, 1px, 1px);height: 1px;margin: -1px;overflow: hidden;padding: 0;position: absolute;width: 1px;}#sk-container-id-1 div.sk-estimator {font-family: monospace;background-color: #f0f8ff;border: 1px dotted black;border-radius: 0.25em;box-sizing: border-box;margin-bottom: 0.5em;}#sk-container-id-1 div.sk-estimator:hover {background-color: #d4ebff;}#sk-container-id-1 div.sk-parallel-item::after {content: \"\";width: 100%;border-bottom: 1px solid gray;flex-grow: 1;}#sk-container-id-1 div.sk-label:hover label.sk-toggleable__label {background-color: #d4ebff;}#sk-container-id-1 div.sk-serial::before {content: \"\";position: absolute;border-left: 1px solid gray;box-sizing: border-box;top: 0;bottom: 0;left: 50%;z-index: 0;}#sk-container-id-1 div.sk-serial {display: flex;flex-direction: column;align-items: center;background-color: white;padding-right: 0.2em;padding-left: 0.2em;position: relative;}#sk-container-id-1 div.sk-item {position: relative;z-index: 1;}#sk-container-id-1 div.sk-parallel {display: flex;align-items: stretch;justify-content: center;background-color: white;position: relative;}#sk-container-id-1 div.sk-item::before, #sk-container-id-1 div.sk-parallel-item::before {content: \"\";position: absolute;border-left: 1px solid gray;box-sizing: border-box;top: 0;bottom: 0;left: 50%;z-index: -1;}#sk-container-id-1 div.sk-parallel-item {display: flex;flex-direction: column;z-index: 1;position: relative;background-color: white;}#sk-container-id-1 div.sk-parallel-item:first-child::after {align-self: flex-end;width: 50%;}#sk-container-id-1 div.sk-parallel-item:last-child::after {align-self: flex-start;width: 50%;}#sk-container-id-1 div.sk-parallel-item:only-child::after {width: 0;}#sk-container-id-1 div.sk-dashed-wrapped {border: 1px dashed gray;margin: 0 0.4em 0.5em 0.4em;box-sizing: border-box;padding-bottom: 0.4em;background-color: white;}#sk-container-id-1 div.sk-label label {font-family: monospace;font-weight: bold;display: inline-block;line-height: 1.2em;}#sk-container-id-1 div.sk-label-container {text-align: center;}#sk-container-id-1 div.sk-container {/* jupyter's `normalize.less` sets `[hidden] { display: none; }` but bootstrap.min.css set `[hidden] { display: none !important; }` so we also need the `!important` here to be able to override the default hidden behavior on the sphinx rendered scikit-learn.org. See: https://github.com/scikit-learn/scikit-learn/issues/21755 */display: inline-block !important;position: relative;}#sk-container-id-1 div.sk-text-repr-fallback {display: none;}</style><div id=\"sk-container-id-1\" class=\"sk-top-container\"><div class=\"sk-text-repr-fallback\"><pre>GradientBoostingClassifier()</pre><b>In a Jupyter environment, please rerun this cell to show the HTML representation or trust the notebook. <br />On GitHub, the HTML representation is unable to render, please try loading this page with nbviewer.org.</b></div><div class=\"sk-container\" hidden><div class=\"sk-item\"><div class=\"sk-estimator sk-toggleable\"><input class=\"sk-toggleable__control sk-hidden--visually\" id=\"sk-estimator-id-1\" type=\"checkbox\" checked><label for=\"sk-estimator-id-1\" class=\"sk-toggleable__label sk-toggleable__label-arrow\">GradientBoostingClassifier</label><div class=\"sk-toggleable__content\"><pre>GradientBoostingClassifier()</pre></div></div></div></div></div>"
            ],
            "text/plain": [
              "GradientBoostingClassifier()"
            ]
          },
          "execution_count": 31,
          "metadata": {},
          "output_type": "execute_result"
        }
      ],
      "source": [
        "gb = GradientBoostingClassifier()\n",
        "gb.fit(X_train, y_train)"
      ]
    },
    {
      "cell_type": "code",
      "execution_count": null,
      "metadata": {
        "id": "g9t1_no_KujK"
      },
      "outputs": [],
      "source": [
        "#df[:1]"
      ]
    },
    {
      "cell_type": "code",
      "execution_count": null,
      "metadata": {
        "colab": {
          "base_uri": "https://localhost:8080/",
          "height": 140
        },
        "id": "ZOFP-oWmIqkd",
        "outputId": "702afa26-f9d4-44eb-9cd4-5536db0e53d4"
      },
      "outputs": [
        {
          "data": {
            "application/vnd.google.colaboratory.intrinsic+json": {
              "type": "string"
            },
            "text/plain": [
              "'#n=0\\nnext_values = []\\ndata_sim = pd.DataFrame(columns=[\\'o2sat\\', \\'sbp\\', \\'dbp\\', \\'heartrate\\', \\'resprate\\'])\\n#next_df= pd.DataFrame(columns=[\\'o2sat\\', \\'sbp\\', \\'dbp\\', \\'heartrate\\', \\'resprate\\'])\\nwhile True:\\n  #last_row=[]\\n  \\n  print(data_sim)\\n  last_row=df[-1:].to_numpy().astype(\\'float32\\')\\n  last_row=scaler.fit_transform(last_row)\\n  for i in range(5):\\n    # Predict the next set of values\\n    predicted_values_1 = model.predict(last_row)\\n    #print(predicted_values_1)\\n    # Inverse transform the predicted values using the scaler\\n    predicted_values = scaler.inverse_transform(predicted_values_1)\\n    print(predicted_values)\\n    # Add the predicted values to the list\\n    next_values.append(predicted_values)\\n    # Update the last row with the predicted values\\n    #last_row =  np.vstack([last_row[1:], np.array(next_values[-5:]).reshape((5, last_row.shape[1]))])\\n    #last_row =  np.vstack([last_row[1:], np.array(next_values[-5:]).reshape((5, last_row.shape[1]))])\\n    last_row = np.vstack([last_row[1:], predicted_values])\\n    # Calculate the rolling average of the predicted values for the next 5 rows\\n  rolling_avg = np.mean(np.array(next_values), axis=0)\\n  #print(\"Rolling average of the predicted values:\", rolling_avg)\\n  rolling_df_with_is=pd.DataFrame(rolling_avg,columns=[\\'o2sat\\', \\'sbp\\', \\'dbp\\', \\'heartrate\\', \\'resprate\\'])\\n  \\n  X = scaler.transform(rolling_df_with_is[[\\'o2sat\\', \\'sbp\\', \\'dbp\\', \\'heartrate\\', \\'resprate\\']])\\n  y_pred = gb.predict(X)\\n  rolling_df_with_is[\\'predicted_instability\\'] = y_pred\\n  print(\"Rolling average of the predicted values:\",rolling_df_with_is )\\n  if y_pred[0] == 1:\\n    print(\"Instability predicted\")\\n  # next_values = np.array(next_values).reshape((5, 1))\\n  # next_values = np.array(next_values).reshape((5, 1))\\n  tf.keras.backend.clear_session()\\n # next_values = np.array(next_values).reshape((2, 1))'"
            ]
          },
          "execution_count": 33,
          "metadata": {},
          "output_type": "execute_result"
        }
      ],
      "source": [
        "'''#n=0\n",
        "next_values = []\n",
        "data_sim = pd.DataFrame(columns=['o2sat', 'sbp', 'dbp', 'heartrate', 'resprate'])\n",
        "#next_df= pd.DataFrame(columns=['o2sat', 'sbp', 'dbp', 'heartrate', 'resprate'])\n",
        "while True:\n",
        "  #last_row=[]\n",
        "  \n",
        "  print(data_sim)\n",
        "  last_row=df[-1:].to_numpy().astype('float32')\n",
        "  last_row=scaler.fit_transform(last_row)\n",
        "  for i in range(5):\n",
        "    # Predict the next set of values\n",
        "    predicted_values_1 = model.predict(last_row)\n",
        "    #print(predicted_values_1)\n",
        "    # Inverse transform the predicted values using the scaler\n",
        "    predicted_values = scaler.inverse_transform(predicted_values_1)\n",
        "    print(predicted_values)\n",
        "    # Add the predicted values to the list\n",
        "    next_values.append(predicted_values)\n",
        "    # Update the last row with the predicted values\n",
        "    #last_row =  np.vstack([last_row[1:], np.array(next_values[-5:]).reshape((5, last_row.shape[1]))])\n",
        "    #last_row =  np.vstack([last_row[1:], np.array(next_values[-5:]).reshape((5, last_row.shape[1]))])\n",
        "    last_row = np.vstack([last_row[1:], predicted_values])\n",
        "    # Calculate the rolling average of the predicted values for the next 5 rows\n",
        "  rolling_avg = np.mean(np.array(next_values), axis=0)\n",
        "  #print(\"Rolling average of the predicted values:\", rolling_avg)\n",
        "  rolling_df_with_is=pd.DataFrame(rolling_avg,columns=['o2sat', 'sbp', 'dbp', 'heartrate', 'resprate'])\n",
        "  \n",
        "  X = scaler.transform(rolling_df_with_is[['o2sat', 'sbp', 'dbp', 'heartrate', 'resprate']])\n",
        "  y_pred = gb.predict(X)\n",
        "  rolling_df_with_is['predicted_instability'] = y_pred\n",
        "  print(\"Rolling average of the predicted values:\",rolling_df_with_is )\n",
        "  if y_pred[0] == 1:\n",
        "    print(\"Instability predicted\")\n",
        "  # next_values = np.array(next_values).reshape((5, 1))\n",
        "  # next_values = np.array(next_values).reshape((5, 1))\n",
        "  tf.keras.backend.clear_session()\n",
        " # next_values = np.array(next_values).reshape((2, 1))'''"
      ]
    },
    {
      "cell_type": "code",
      "execution_count": null,
      "metadata": {
        "colab": {
          "base_uri": "https://localhost:8080/",
          "height": 1000
        },
        "id": "F_cYWiE-dNG-",
        "outputId": "a5878919-13f0-4821-f0db-f8e2df67dcc6"
      },
      "outputs": [
        {
          "name": "stdout",
          "output_type": "stream",
          "text": [
            "  o2sat sbp dbp heartrate resprate\n",
            "0   145  75  59       137       22\n",
            "1/1 [==============================] - 0s 239ms/step\n",
            "[[145  75  59 137  22]]\n",
            "1/1 [==============================] - 0s 44ms/step\n",
            "[[149  70  63 150  18]]\n",
            "1/1 [==============================] - 0s 73ms/step\n",
            "[[141  68  64 147  17]]\n",
            "1/1 [==============================] - 0s 47ms/step\n",
            "[[142  68  64 147  17]]\n",
            "1/1 [==============================] - 0s 21ms/step\n",
            "[[142  68  64 147  17]]\n",
            "Rolling average of the predicted values:\n",
            "   o2sat  sbp  dbp  heartrate  resprate  predicted_instability\n",
            "0    143   69   62        145        18                      0\n",
            "======================================\n",
            "  o2sat sbp dbp heartrate resprate\n",
            "0   145  75  59       137       22\n",
            "1   158  47  42        78       20\n",
            "1/1 [==============================] - 0s 43ms/step\n",
            "[[158  47  42  78  20]]\n",
            "1/1 [==============================] - 0s 36ms/step\n",
            "[[154  44  46 100  20]]\n",
            "1/1 [==============================] - 0s 73ms/step\n",
            "[[150  41  46  93  15]]\n",
            "1/1 [==============================] - 0s 67ms/step\n",
            "[[149  42  46  93  16]]\n",
            "1/1 [==============================] - 0s 42ms/step\n",
            "[[150  42  46  93  16]]\n",
            "Rolling average of the predicted values:\n",
            "   o2sat  sbp  dbp  heartrate  resprate  predicted_instability\n",
            "0    148   56   54        118        17                      0\n",
            "======================================\n",
            "  o2sat sbp  dbp heartrate resprate\n",
            "0   145  75   59       137       22\n",
            "1   158  47   42        78       20\n",
            "2    50  78  102       152       30\n",
            "1/1 [==============================] - 0s 188ms/step\n",
            "[[ 50  78 102 152  30]]\n",
            "1/1 [==============================] - 0s 109ms/step\n",
            "[[ 66  77 107 166  30]]\n",
            "1/1 [==============================] - 0s 83ms/step\n",
            "[[ 62  75 107 166  29]]\n",
            "1/1 [==============================] - 0s 138ms/step\n",
            "[[ 63  75 107 166  29]]\n",
            "1/1 [==============================] - 0s 163ms/step\n",
            "[[ 63  75 107 166  29]]\n",
            "Rolling average of the predicted values:\n",
            "   o2sat  sbp  dbp  heartrate  resprate  predicted_instability\n",
            "0    118   63   71        133        21                      0\n",
            "======================================\n",
            "  o2sat sbp  dbp heartrate resprate\n",
            "0   145  75   59       137       22\n",
            "1   158  47   42        78       20\n",
            "2    50  78  102       152       30\n",
            "3   100  70   87       149       18\n",
            "1/1 [==============================] - 0s 77ms/step\n",
            "[[100  70  87 149  18]]\n",
            "1/1 [==============================] - 0s 57ms/step\n",
            "[[104  67  92 159  17]]\n",
            "1/1 [==============================] - 0s 79ms/step\n",
            "[[101  65  93 158  17]]\n",
            "1/1 [==============================] - 0s 62ms/step\n",
            "[[100  65  93 158  16]]\n",
            "1/1 [==============================] - 0s 49ms/step\n",
            "[[100  65  93 158  17]]\n",
            "Rolling average of the predicted values:\n",
            "   o2sat  sbp  dbp  heartrate  resprate  predicted_instability\n",
            "0    114   63   76        139        20                      0\n",
            "======================================\n",
            "  o2sat  sbp  dbp heartrate resprate\n",
            "0   145   75   59       137       22\n",
            "1   158   47   42        78       20\n",
            "2    50   78  102       152       30\n",
            "3   100   70   87       149       18\n",
            "4   108  147  115        62       33\n",
            "1/1 [==============================] - 0s 70ms/step\n",
            "[[108 147 115  62  33]]\n",
            "1/1 [==============================] - 0s 35ms/step\n",
            "[[147 165 124  72  38]]\n",
            "1/1 [==============================] - 0s 42ms/step\n",
            "[[157 168 125  77  40]]\n",
            "1/1 [==============================] - 0s 36ms/step\n",
            "[[157 168 126  77  40]]\n",
            "1/1 [==============================] - 0s 40ms/step\n",
            "[[157 168 126  77  40]]\n",
            "Rolling average of the predicted values:\n",
            "   o2sat  sbp  dbp  heartrate  resprate  predicted_instability\n",
            "0    120   83   85        125        24                      1\n",
            "======================================\n",
            "Instability predicted\n",
            "======================================\n",
            "  o2sat  sbp  dbp heartrate resprate\n",
            "0   145   75   59       137       22\n",
            "1   158   47   42        78       20\n",
            "2    50   78  102       152       30\n",
            "3   100   70   87       149       18\n",
            "4   108  147  115        62       33\n",
            "5   162  133  100       245       15\n",
            "1/1 [==============================] - 0s 41ms/step\n",
            "[[162 133 100 245  15]]\n",
            "1/1 [==============================] - 0s 24ms/step\n",
            "[[184 141 107 263  15]]\n",
            "1/1 [==============================] - 0s 23ms/step\n",
            "[[184 144 108 264  14]]\n",
            "1/1 [==============================] - 0s 24ms/step\n",
            "[[185 143 107 265  14]]\n",
            "1/1 [==============================] - 0s 23ms/step\n",
            "[[185 144 107 264  14]]\n",
            "Rolling average of the predicted values:\n",
            "   o2sat  sbp  dbp  heartrate  resprate  predicted_instability\n",
            "0    130   93   89        148        22                      1\n",
            "======================================\n",
            "Instability predicted\n",
            "======================================\n",
            "  o2sat  sbp  dbp heartrate resprate\n",
            "0   145   75   59       137       22\n",
            "1   158   47   42        78       20\n",
            "2    50   78  102       152       30\n",
            "3   100   70   87       149       18\n",
            "4   108  147  115        62       33\n",
            "5   162  133  100       245       15\n",
            "6   190   48   96        64       29\n",
            "1/1 [==============================] - 0s 37ms/step\n",
            "[[190  48  96  64  29]]\n",
            "1/1 [==============================] - 0s 24ms/step\n",
            "[[190  52 104  94  31]]\n",
            "1/1 [==============================] - 0s 25ms/step\n",
            "[[186  47 104  89  28]]\n",
            "1/1 [==============================] - 0s 21ms/step\n",
            "[[185  48 105  89  28]]\n",
            "1/1 [==============================] - 0s 22ms/step\n",
            "[[186  48 105  88  28]]\n",
            "Rolling average of the predicted values:\n",
            "   o2sat  sbp  dbp  heartrate  resprate  predicted_instability\n",
            "0    138   86   91        139        23                      0\n",
            "======================================\n",
            "  o2sat  sbp  dbp heartrate resprate\n",
            "0   145   75   59       137       22\n",
            "1   158   47   42        78       20\n",
            "2    50   78  102       152       30\n",
            "3   100   70   87       149       18\n",
            "4   108  147  115        62       33\n",
            "5   162  133  100       245       15\n",
            "6   190   48   96        64       29\n",
            "7    81   41   73       179        9\n",
            "1/1 [==============================] - 0s 37ms/step\n",
            "[[ 81  41  73 179   9]]\n",
            "1/1 [==============================] - 0s 30ms/step\n",
            "[[ 71  38  80 175   6]]\n",
            "1/1 [==============================] - 0s 27ms/step\n",
            "[[ 71  40  79 178   5]]\n",
            "1/1 [==============================] - 0s 28ms/step\n",
            "[[ 70  40  79 178   6]]\n",
            "1/1 [==============================] - 0s 23ms/step\n",
            "[[ 71  40  79 178   6]]\n",
            "Rolling average of the predicted values:\n",
            "   o2sat  sbp  dbp  heartrate  resprate  predicted_instability\n",
            "0    130   81   89        144        21                      0\n",
            "======================================\n",
            "  o2sat  sbp  dbp heartrate resprate\n",
            "0   145   75   59       137       22\n",
            "1   158   47   42        78       20\n",
            "2    50   78  102       152       30\n",
            "3   100   70   87       149       18\n",
            "4   108  147  115        62       33\n",
            "5   162  133  100       245       15\n",
            "6   190   48   96        64       29\n",
            "7    81   41   73       179        9\n",
            "8   144  116   53       123        9\n",
            "1/1 [==============================] - 0s 39ms/step\n",
            "[[144 116  53 123   9]]\n",
            "1/1 [==============================] - 0s 24ms/step\n",
            "[[164 126  53 141   9]]\n",
            "1/1 [==============================] - 0s 24ms/step\n",
            "[[166 128  52 143   8]]\n",
            "1/1 [==============================] - 0s 24ms/step\n",
            "[[165 129  52 144   8]]\n",
            "1/1 [==============================] - 0s 22ms/step\n",
            "[[165 128  52 144   8]]\n",
            "Rolling average of the predicted values:\n",
            "   o2sat  sbp  dbp  heartrate  resprate  predicted_instability\n",
            "0    133   85   85        143        19                      1\n",
            "======================================\n",
            "Instability predicted\n",
            "======================================\n",
            "  o2sat  sbp  dbp heartrate resprate\n",
            "0   145   75   59       137       22\n",
            "1   158   47   42        78       20\n",
            "2    50   78  102       152       30\n",
            "3   100   70   87       149       18\n",
            "4   108  147  115        62       33\n",
            "5   162  133  100       245       15\n",
            "6   190   48   96        64       29\n",
            "7    81   41   73       179        9\n",
            "8   144  116   53       123        9\n",
            "9    77   94   76        59        6\n",
            "1/1 [==============================] - 0s 35ms/step\n",
            "[[77 94 76 59  6]]\n",
            "1/1 [==============================] - 0s 31ms/step\n",
            "[[90 89 80 69  5]]\n",
            "1/1 [==============================] - 0s 22ms/step\n",
            "[[90 90 81 70  5]]\n",
            "1/1 [==============================] - 0s 23ms/step\n",
            "[[89 89 81 70  5]]\n"
          ]
        },
        {
          "ename": "KeyboardInterrupt",
          "evalue": "ignored",
          "output_type": "error",
          "traceback": [
            "\u001b[0;31m---------------------------------------------------------------------------\u001b[0m",
            "\u001b[0;31mKeyboardInterrupt\u001b[0m                         Traceback (most recent call last)",
            "\u001b[0;32m<ipython-input-35-8bbf2dd5ae59>\u001b[0m in \u001b[0;36m<cell line: 5>\u001b[0;34m()\u001b[0m\n\u001b[1;32m     18\u001b[0m   \u001b[0;32mfor\u001b[0m \u001b[0mi\u001b[0m \u001b[0;32min\u001b[0m \u001b[0mrange\u001b[0m\u001b[0;34m(\u001b[0m\u001b[0;36m5\u001b[0m\u001b[0;34m)\u001b[0m\u001b[0;34m:\u001b[0m\u001b[0;34m\u001b[0m\u001b[0;34m\u001b[0m\u001b[0m\n\u001b[1;32m     19\u001b[0m     \u001b[0;31m# Predict the next set of values\u001b[0m\u001b[0;34m\u001b[0m\u001b[0;34m\u001b[0m\u001b[0m\n\u001b[0;32m---> 20\u001b[0;31m     \u001b[0mpredicted_values_1\u001b[0m \u001b[0;34m=\u001b[0m \u001b[0mmodel\u001b[0m\u001b[0;34m.\u001b[0m\u001b[0mpredict\u001b[0m\u001b[0;34m(\u001b[0m\u001b[0mlast_row\u001b[0m\u001b[0;34m)\u001b[0m\u001b[0;34m\u001b[0m\u001b[0;34m\u001b[0m\u001b[0m\n\u001b[0m\u001b[1;32m     21\u001b[0m     \u001b[0;31m#print(predicted_values_1)\u001b[0m\u001b[0;34m\u001b[0m\u001b[0;34m\u001b[0m\u001b[0m\n\u001b[1;32m     22\u001b[0m     \u001b[0;31m# Inverse transform the predicted values using the scaler\u001b[0m\u001b[0;34m\u001b[0m\u001b[0;34m\u001b[0m\u001b[0m\n",
            "\u001b[0;32m/usr/local/lib/python3.10/dist-packages/keras/utils/traceback_utils.py\u001b[0m in \u001b[0;36merror_handler\u001b[0;34m(*args, **kwargs)\u001b[0m\n\u001b[1;32m     63\u001b[0m         \u001b[0mfiltered_tb\u001b[0m \u001b[0;34m=\u001b[0m \u001b[0;32mNone\u001b[0m\u001b[0;34m\u001b[0m\u001b[0;34m\u001b[0m\u001b[0m\n\u001b[1;32m     64\u001b[0m         \u001b[0;32mtry\u001b[0m\u001b[0;34m:\u001b[0m\u001b[0;34m\u001b[0m\u001b[0;34m\u001b[0m\u001b[0m\n\u001b[0;32m---> 65\u001b[0;31m             \u001b[0;32mreturn\u001b[0m \u001b[0mfn\u001b[0m\u001b[0;34m(\u001b[0m\u001b[0;34m*\u001b[0m\u001b[0margs\u001b[0m\u001b[0;34m,\u001b[0m \u001b[0;34m**\u001b[0m\u001b[0mkwargs\u001b[0m\u001b[0;34m)\u001b[0m\u001b[0;34m\u001b[0m\u001b[0;34m\u001b[0m\u001b[0m\n\u001b[0m\u001b[1;32m     66\u001b[0m         \u001b[0;32mexcept\u001b[0m \u001b[0mException\u001b[0m \u001b[0;32mas\u001b[0m \u001b[0me\u001b[0m\u001b[0;34m:\u001b[0m\u001b[0;34m\u001b[0m\u001b[0;34m\u001b[0m\u001b[0m\n\u001b[1;32m     67\u001b[0m             \u001b[0mfiltered_tb\u001b[0m \u001b[0;34m=\u001b[0m \u001b[0m_process_traceback_frames\u001b[0m\u001b[0;34m(\u001b[0m\u001b[0me\u001b[0m\u001b[0;34m.\u001b[0m\u001b[0m__traceback__\u001b[0m\u001b[0;34m)\u001b[0m\u001b[0;34m\u001b[0m\u001b[0;34m\u001b[0m\u001b[0m\n",
            "\u001b[0;32m/usr/local/lib/python3.10/dist-packages/keras/engine/training.py\u001b[0m in \u001b[0;36mpredict\u001b[0;34m(self, x, batch_size, verbose, steps, callbacks, max_queue_size, workers, use_multiprocessing)\u001b[0m\n\u001b[1;32m   2380\u001b[0m                     \u001b[0;32mfor\u001b[0m \u001b[0mstep\u001b[0m \u001b[0;32min\u001b[0m \u001b[0mdata_handler\u001b[0m\u001b[0;34m.\u001b[0m\u001b[0msteps\u001b[0m\u001b[0;34m(\u001b[0m\u001b[0;34m)\u001b[0m\u001b[0;34m:\u001b[0m\u001b[0;34m\u001b[0m\u001b[0;34m\u001b[0m\u001b[0m\n\u001b[1;32m   2381\u001b[0m                         \u001b[0mcallbacks\u001b[0m\u001b[0;34m.\u001b[0m\u001b[0mon_predict_batch_begin\u001b[0m\u001b[0;34m(\u001b[0m\u001b[0mstep\u001b[0m\u001b[0;34m)\u001b[0m\u001b[0;34m\u001b[0m\u001b[0;34m\u001b[0m\u001b[0m\n\u001b[0;32m-> 2382\u001b[0;31m                         \u001b[0mtmp_batch_outputs\u001b[0m \u001b[0;34m=\u001b[0m \u001b[0mself\u001b[0m\u001b[0;34m.\u001b[0m\u001b[0mpredict_function\u001b[0m\u001b[0;34m(\u001b[0m\u001b[0miterator\u001b[0m\u001b[0;34m)\u001b[0m\u001b[0;34m\u001b[0m\u001b[0;34m\u001b[0m\u001b[0m\n\u001b[0m\u001b[1;32m   2383\u001b[0m                         \u001b[0;32mif\u001b[0m \u001b[0mdata_handler\u001b[0m\u001b[0;34m.\u001b[0m\u001b[0mshould_sync\u001b[0m\u001b[0;34m:\u001b[0m\u001b[0;34m\u001b[0m\u001b[0;34m\u001b[0m\u001b[0m\n\u001b[1;32m   2384\u001b[0m                             \u001b[0mcontext\u001b[0m\u001b[0;34m.\u001b[0m\u001b[0masync_wait\u001b[0m\u001b[0;34m(\u001b[0m\u001b[0;34m)\u001b[0m\u001b[0;34m\u001b[0m\u001b[0;34m\u001b[0m\u001b[0m\n",
            "\u001b[0;32m/usr/local/lib/python3.10/dist-packages/tensorflow/python/util/traceback_utils.py\u001b[0m in \u001b[0;36merror_handler\u001b[0;34m(*args, **kwargs)\u001b[0m\n\u001b[1;32m    148\u001b[0m     \u001b[0mfiltered_tb\u001b[0m \u001b[0;34m=\u001b[0m \u001b[0;32mNone\u001b[0m\u001b[0;34m\u001b[0m\u001b[0;34m\u001b[0m\u001b[0m\n\u001b[1;32m    149\u001b[0m     \u001b[0;32mtry\u001b[0m\u001b[0;34m:\u001b[0m\u001b[0;34m\u001b[0m\u001b[0;34m\u001b[0m\u001b[0m\n\u001b[0;32m--> 150\u001b[0;31m       \u001b[0;32mreturn\u001b[0m \u001b[0mfn\u001b[0m\u001b[0;34m(\u001b[0m\u001b[0;34m*\u001b[0m\u001b[0margs\u001b[0m\u001b[0;34m,\u001b[0m \u001b[0;34m**\u001b[0m\u001b[0mkwargs\u001b[0m\u001b[0;34m)\u001b[0m\u001b[0;34m\u001b[0m\u001b[0;34m\u001b[0m\u001b[0m\n\u001b[0m\u001b[1;32m    151\u001b[0m     \u001b[0;32mexcept\u001b[0m \u001b[0mException\u001b[0m \u001b[0;32mas\u001b[0m \u001b[0me\u001b[0m\u001b[0;34m:\u001b[0m\u001b[0;34m\u001b[0m\u001b[0;34m\u001b[0m\u001b[0m\n\u001b[1;32m    152\u001b[0m       \u001b[0mfiltered_tb\u001b[0m \u001b[0;34m=\u001b[0m \u001b[0m_process_traceback_frames\u001b[0m\u001b[0;34m(\u001b[0m\u001b[0me\u001b[0m\u001b[0;34m.\u001b[0m\u001b[0m__traceback__\u001b[0m\u001b[0;34m)\u001b[0m\u001b[0;34m\u001b[0m\u001b[0;34m\u001b[0m\u001b[0m\n",
            "\u001b[0;32m/usr/local/lib/python3.10/dist-packages/tensorflow/python/eager/polymorphic_function/polymorphic_function.py\u001b[0m in \u001b[0;36m__call__\u001b[0;34m(self, *args, **kwds)\u001b[0m\n\u001b[1;32m    892\u001b[0m \u001b[0;34m\u001b[0m\u001b[0m\n\u001b[1;32m    893\u001b[0m       \u001b[0;32mwith\u001b[0m \u001b[0mOptionalXlaContext\u001b[0m\u001b[0;34m(\u001b[0m\u001b[0mself\u001b[0m\u001b[0;34m.\u001b[0m\u001b[0m_jit_compile\u001b[0m\u001b[0;34m)\u001b[0m\u001b[0;34m:\u001b[0m\u001b[0;34m\u001b[0m\u001b[0;34m\u001b[0m\u001b[0m\n\u001b[0;32m--> 894\u001b[0;31m         \u001b[0mresult\u001b[0m \u001b[0;34m=\u001b[0m \u001b[0mself\u001b[0m\u001b[0;34m.\u001b[0m\u001b[0m_call\u001b[0m\u001b[0;34m(\u001b[0m\u001b[0;34m*\u001b[0m\u001b[0margs\u001b[0m\u001b[0;34m,\u001b[0m \u001b[0;34m**\u001b[0m\u001b[0mkwds\u001b[0m\u001b[0;34m)\u001b[0m\u001b[0;34m\u001b[0m\u001b[0;34m\u001b[0m\u001b[0m\n\u001b[0m\u001b[1;32m    895\u001b[0m \u001b[0;34m\u001b[0m\u001b[0m\n\u001b[1;32m    896\u001b[0m       \u001b[0mnew_tracing_count\u001b[0m \u001b[0;34m=\u001b[0m \u001b[0mself\u001b[0m\u001b[0;34m.\u001b[0m\u001b[0mexperimental_get_tracing_count\u001b[0m\u001b[0;34m(\u001b[0m\u001b[0;34m)\u001b[0m\u001b[0;34m\u001b[0m\u001b[0;34m\u001b[0m\u001b[0m\n",
            "\u001b[0;32m/usr/local/lib/python3.10/dist-packages/tensorflow/python/eager/polymorphic_function/polymorphic_function.py\u001b[0m in \u001b[0;36m_call\u001b[0;34m(self, *args, **kwds)\u001b[0m\n\u001b[1;32m    931\u001b[0m       \u001b[0;31m# In this case we have not created variables on the first call. So we can\u001b[0m\u001b[0;34m\u001b[0m\u001b[0;34m\u001b[0m\u001b[0m\n\u001b[1;32m    932\u001b[0m       \u001b[0;31m# run the first trace but we should fail if variables are created.\u001b[0m\u001b[0;34m\u001b[0m\u001b[0;34m\u001b[0m\u001b[0m\n\u001b[0;32m--> 933\u001b[0;31m       \u001b[0mresults\u001b[0m \u001b[0;34m=\u001b[0m \u001b[0mself\u001b[0m\u001b[0;34m.\u001b[0m\u001b[0m_variable_creation_fn\u001b[0m\u001b[0;34m(\u001b[0m\u001b[0;34m*\u001b[0m\u001b[0margs\u001b[0m\u001b[0;34m,\u001b[0m \u001b[0;34m**\u001b[0m\u001b[0mkwds\u001b[0m\u001b[0;34m)\u001b[0m\u001b[0;34m\u001b[0m\u001b[0;34m\u001b[0m\u001b[0m\n\u001b[0m\u001b[1;32m    934\u001b[0m       \u001b[0;32mif\u001b[0m \u001b[0mself\u001b[0m\u001b[0;34m.\u001b[0m\u001b[0m_created_variables\u001b[0m \u001b[0;32mand\u001b[0m \u001b[0;32mnot\u001b[0m \u001b[0mALLOW_DYNAMIC_VARIABLE_CREATION\u001b[0m\u001b[0;34m:\u001b[0m\u001b[0;34m\u001b[0m\u001b[0;34m\u001b[0m\u001b[0m\n\u001b[1;32m    935\u001b[0m         raise ValueError(\"Creating variables on a non-first call to a function\"\n",
            "\u001b[0;32m/usr/local/lib/python3.10/dist-packages/tensorflow/python/eager/polymorphic_function/tracing_compiler.py\u001b[0m in \u001b[0;36m__call__\u001b[0;34m(self, *args, **kwargs)\u001b[0m\n\u001b[1;32m    141\u001b[0m       (concrete_function,\n\u001b[1;32m    142\u001b[0m        filtered_flat_args) = self._maybe_define_function(args, kwargs)\n\u001b[0;32m--> 143\u001b[0;31m     return concrete_function._call_flat(\n\u001b[0m\u001b[1;32m    144\u001b[0m         filtered_flat_args, captured_inputs=concrete_function.captured_inputs)  # pylint: disable=protected-access\n\u001b[1;32m    145\u001b[0m \u001b[0;34m\u001b[0m\u001b[0m\n",
            "\u001b[0;32m/usr/local/lib/python3.10/dist-packages/tensorflow/python/eager/polymorphic_function/monomorphic_function.py\u001b[0m in \u001b[0;36m_call_flat\u001b[0;34m(self, args, captured_inputs, cancellation_manager)\u001b[0m\n\u001b[1;32m   1755\u001b[0m         and executing_eagerly):\n\u001b[1;32m   1756\u001b[0m       \u001b[0;31m# No tape is watching; skip to running the function.\u001b[0m\u001b[0;34m\u001b[0m\u001b[0;34m\u001b[0m\u001b[0m\n\u001b[0;32m-> 1757\u001b[0;31m       return self._build_call_outputs(self._inference_function.call(\n\u001b[0m\u001b[1;32m   1758\u001b[0m           ctx, args, cancellation_manager=cancellation_manager))\n\u001b[1;32m   1759\u001b[0m     forward_backward = self._select_forward_and_backward_functions(\n",
            "\u001b[0;32m/usr/local/lib/python3.10/dist-packages/tensorflow/python/eager/polymorphic_function/monomorphic_function.py\u001b[0m in \u001b[0;36mcall\u001b[0;34m(self, ctx, args, cancellation_manager)\u001b[0m\n\u001b[1;32m    379\u001b[0m       \u001b[0;32mwith\u001b[0m \u001b[0m_InterpolateFunctionError\u001b[0m\u001b[0;34m(\u001b[0m\u001b[0mself\u001b[0m\u001b[0;34m)\u001b[0m\u001b[0;34m:\u001b[0m\u001b[0;34m\u001b[0m\u001b[0;34m\u001b[0m\u001b[0m\n\u001b[1;32m    380\u001b[0m         \u001b[0;32mif\u001b[0m \u001b[0mcancellation_manager\u001b[0m \u001b[0;32mis\u001b[0m \u001b[0;32mNone\u001b[0m\u001b[0;34m:\u001b[0m\u001b[0;34m\u001b[0m\u001b[0;34m\u001b[0m\u001b[0m\n\u001b[0;32m--> 381\u001b[0;31m           outputs = execute.execute(\n\u001b[0m\u001b[1;32m    382\u001b[0m               \u001b[0mstr\u001b[0m\u001b[0;34m(\u001b[0m\u001b[0mself\u001b[0m\u001b[0;34m.\u001b[0m\u001b[0msignature\u001b[0m\u001b[0;34m.\u001b[0m\u001b[0mname\u001b[0m\u001b[0;34m)\u001b[0m\u001b[0;34m,\u001b[0m\u001b[0;34m\u001b[0m\u001b[0;34m\u001b[0m\u001b[0m\n\u001b[1;32m    383\u001b[0m               \u001b[0mnum_outputs\u001b[0m\u001b[0;34m=\u001b[0m\u001b[0mself\u001b[0m\u001b[0;34m.\u001b[0m\u001b[0m_num_outputs\u001b[0m\u001b[0;34m,\u001b[0m\u001b[0;34m\u001b[0m\u001b[0;34m\u001b[0m\u001b[0m\n",
            "\u001b[0;32m/usr/local/lib/python3.10/dist-packages/tensorflow/python/eager/execute.py\u001b[0m in \u001b[0;36mquick_execute\u001b[0;34m(op_name, num_outputs, inputs, attrs, ctx, name)\u001b[0m\n\u001b[1;32m     50\u001b[0m   \u001b[0;32mtry\u001b[0m\u001b[0;34m:\u001b[0m\u001b[0;34m\u001b[0m\u001b[0;34m\u001b[0m\u001b[0m\n\u001b[1;32m     51\u001b[0m     \u001b[0mctx\u001b[0m\u001b[0;34m.\u001b[0m\u001b[0mensure_initialized\u001b[0m\u001b[0;34m(\u001b[0m\u001b[0;34m)\u001b[0m\u001b[0;34m\u001b[0m\u001b[0;34m\u001b[0m\u001b[0m\n\u001b[0;32m---> 52\u001b[0;31m     tensors = pywrap_tfe.TFE_Py_Execute(ctx._handle, device_name, op_name,\n\u001b[0m\u001b[1;32m     53\u001b[0m                                         inputs, attrs, num_outputs)\n\u001b[1;32m     54\u001b[0m   \u001b[0;32mexcept\u001b[0m \u001b[0mcore\u001b[0m\u001b[0;34m.\u001b[0m\u001b[0m_NotOkStatusException\u001b[0m \u001b[0;32mas\u001b[0m \u001b[0me\u001b[0m\u001b[0;34m:\u001b[0m\u001b[0;34m\u001b[0m\u001b[0;34m\u001b[0m\u001b[0m\n",
            "\u001b[0;31mKeyboardInterrupt\u001b[0m: "
          ]
        }
      ],
      "source": [
        "n=0\n",
        "next_values = []\n",
        "data_sim = pd.DataFrame(columns=['o2sat', 'sbp', 'dbp', 'heartrate', 'resprate'])\n",
        "#next_df= pd.DataFrame(columns=['o2sat', 'sbp', 'dbp', 'heartrate', 'resprate'])\n",
        "while True:\n",
        "  #last_row=[]\n",
        "  sbp = [rand.randint(sbp_L,sbp_H)]\n",
        "  dbp = [rand.randint(dbp_L,dbp_H)]\n",
        "  heartrate = [rand.randint(hr_L,hr_H)]\n",
        "  o2sat = [rand.randint(o2sat_L,o2sat_H)]\n",
        "  resprate = [rand.randint(rr_L,rr_H)]\n",
        "  data={'o2sat':o2sat, 'sbp':sbp, 'dbp':dbp, 'heartrate':heartrate, 'resprate':resprate}\n",
        "  df2 = pd.DataFrame(data)\n",
        "  data_sim = pd.concat([data_sim, df2], ignore_index=True)\n",
        "  print(data_sim)\n",
        "  last_row=data_sim[-1:].to_numpy().astype('float32')\n",
        "  last_row=scaler.fit_transform(last_row)\n",
        "  for i in range(5):\n",
        "    # Predict the next set of values\n",
        "    predicted_values_1 = model.predict(last_row)\n",
        "    #print(predicted_values_1)\n",
        "    # Inverse transform the predicted values using the scaler\n",
        "    predicted_values = scaler.inverse_transform(predicted_values_1)\n",
        "    predicted_values=(predicted_values).astype(int)\n",
        "    print(predicted_values)\n",
        "    # Add the predicted values to the list\n",
        "    next_values.append(predicted_values)\n",
        "    # Update the last row with the predicted values\n",
        "    #last_row =  np.vstack([last_row[1:], np.array(next_values[-5:]).reshape((5, last_row.shape[1]))])\n",
        "    #last_row =  np.vstack([last_row[1:], np.array(next_values[-5:]).reshape((5, last_row.shape[1]))])\n",
        "    last_row = np.vstack([last_row[1:], predicted_values])\n",
        "    # Calculate the rolling average of the predicted values for the next 5 rows\n",
        "  rolling_avg = np.mean(np.array(next_values), axis=0)\n",
        "  #print(\"Rolling average of the predicted values:\", rolling_avg)\n",
        "  rolling_df_with_is=pd.DataFrame(rolling_avg,columns=['o2sat', 'sbp', 'dbp', 'heartrate', 'resprate'])\n",
        "  \n",
        "  X = scaler.transform(rolling_df_with_is[['o2sat', 'sbp', 'dbp', 'heartrate', 'resprate']])\n",
        "  y_pred = gb.predict(X)\n",
        "  rolling_df_with_is['predicted_instability'] = y_pred\n",
        "  print(\"Rolling average of the predicted values:\" )\n",
        "  print((rolling_df_with_is).astype(int))\n",
        "  if y_pred[0] == 1:\n",
        "    print('======================================')\n",
        "    print(\"Instability predicted\")\n",
        "    print('======================================')\n",
        "  else:\n",
        "    print('======================================')\n",
        "  # next_values = np.array(next_values).reshape((5, 1))\n",
        "  # next_values = np.array(next_values).reshape((5, 1))\n",
        "  tf.keras.backend.clear_session()\n",
        " # next_values = np.array(next_values).reshape((2, 1))"
      ]
    },
    {
      "cell_type": "code",
      "execution_count": null,
      "metadata": {
        "id": "IrTRPQqnmjmD"
      },
      "outputs": [],
      "source": []
    }
  ],
  "metadata": {
    "colab": {
      "provenance": []
    },
    "kernelspec": {
      "display_name": "Python 3",
      "name": "python3"
    },
    "language_info": {
      "name": "python"
    }
  },
  "nbformat": 4,
  "nbformat_minor": 0
}
